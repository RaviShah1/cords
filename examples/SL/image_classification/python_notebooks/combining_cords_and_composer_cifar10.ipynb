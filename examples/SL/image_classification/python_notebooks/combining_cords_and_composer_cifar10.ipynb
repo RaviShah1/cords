{
  "nbformat": 4,
  "nbformat_minor": 0,
  "metadata": {
    "colab": {
      "name": "Combining Coords and Composer.ipynb",
      "provenance": [],
      "collapsed_sections": [],
      "include_colab_link": true
    },
    "kernelspec": {
      "name": "python3",
      "display_name": "Python 3"
    },
    "language_info": {
      "name": "python"
    },
    "accelerator": "GPU"
  },
  "cells": [
    {
      "cell_type": "markdown",
      "metadata": {
        "id": "view-in-github",
        "colab_type": "text"
      },
      "source": [
        "<a href=\"https://colab.research.google.com/github/RaviShah1/cords/blob/main/examples/SL/image_classification/python_notebooks/combining_cords_and_composer_cifar10.ipynb\" target=\"_parent\"><img src=\"https://colab.research.google.com/assets/colab-badge.svg\" alt=\"Open In Colab\"/></a>"
      ]
    },
    {
      "cell_type": "code",
      "source": [
        "!git clone https://github.com/decile-team/cords.git\n",
        "%cd cords\n",
        "%ls"
      ],
      "metadata": {
        "id": "pJewp117QDUI",
        "outputId": "33ea9a4c-2bfe-493c-e911-001709aa5cd6",
        "colab": {
          "base_uri": "https://localhost:8080/"
        }
      },
      "execution_count": 1,
      "outputs": [
        {
          "output_type": "stream",
          "name": "stdout",
          "text": [
            "fatal: destination path 'cords' already exists and is not an empty directory.\n",
            "/content/cords\n",
            "\u001b[0m\u001b[01;34mbenchmarks\u001b[0m/   \u001b[01;34mcords\u001b[0m/  \u001b[01;34mexamples\u001b[0m/    \u001b[01;34mrequirements\u001b[0m/  \u001b[01;34mtests\u001b[0m/        train_ssl.py\n",
            "CITATION.CFF  \u001b[01;34mdata\u001b[0m/   LICENSE.txt  \u001b[01;34mresults\u001b[0m/       train_hpo.py\n",
            "\u001b[01;34mconfigs\u001b[0m/      \u001b[01;34mdocs\u001b[0m/   README.md    setup.py       train_sl.py\n"
          ]
        }
      ]
    },
    {
      "cell_type": "code",
      "source": [
        "!pip install dotmap apricot-select ray[default] ray[tune] mosaicml\n"
      ],
      "metadata": {
        "colab": {
          "base_uri": "https://localhost:8080/"
        },
        "id": "37QszJkXYAZz",
        "outputId": "042209c1-8e19-49bc-c93f-5463b630516a"
      },
      "execution_count": 2,
      "outputs": [
        {
          "output_type": "stream",
          "name": "stdout",
          "text": [
            "Looking in indexes: https://pypi.org/simple, https://us-python.pkg.dev/colab-wheels/public/simple/\n",
            "Requirement already satisfied: dotmap in /usr/local/lib/python3.7/dist-packages (1.3.30)\n",
            "Requirement already satisfied: apricot-select in /usr/local/lib/python3.7/dist-packages (0.6.1)\n",
            "Requirement already satisfied: ray[default] in /usr/local/lib/python3.7/dist-packages (1.13.0)\n",
            "Requirement already satisfied: mosaicml in /usr/local/lib/python3.7/dist-packages (0.8.1)\n",
            "Requirement already satisfied: numba>=0.43.0 in /usr/local/lib/python3.7/dist-packages (from apricot-select) (0.51.2)\n",
            "Requirement already satisfied: scipy>=1.0.0 in /usr/local/lib/python3.7/dist-packages (from apricot-select) (1.7.3)\n",
            "Requirement already satisfied: tqdm>=4.24.0 in /usr/local/lib/python3.7/dist-packages (from apricot-select) (4.64.0)\n",
            "Requirement already satisfied: numpy>=1.14.2 in /usr/local/lib/python3.7/dist-packages (from apricot-select) (1.21.6)\n",
            "Requirement already satisfied: nose in /usr/local/lib/python3.7/dist-packages (from apricot-select) (1.3.7)\n",
            "Requirement already satisfied: setuptools in /usr/local/lib/python3.7/dist-packages (from numba>=0.43.0->apricot-select) (57.4.0)\n",
            "Requirement already satisfied: llvmlite<0.35,>=0.34.0.dev0 in /usr/local/lib/python3.7/dist-packages (from numba>=0.43.0->apricot-select) (0.34.0)\n",
            "Requirement already satisfied: requests<3,>=2.26.0 in /usr/local/lib/python3.7/dist-packages (from mosaicml) (2.28.1)\n",
            "Requirement already satisfied: torch-optimizer<0.2,>=0.1.0 in /usr/local/lib/python3.7/dist-packages (from mosaicml) (0.1.0)\n",
            "Requirement already satisfied: yahp<0.2,>=0.1.1 in /usr/local/lib/python3.7/dist-packages (from mosaicml) (0.1.1)\n",
            "Requirement already satisfied: torchvision>=0.10.0 in /usr/local/lib/python3.7/dist-packages (from mosaicml) (0.13.0+cu113)\n",
            "Requirement already satisfied: coolname<2,>=1.1.0 in /usr/local/lib/python3.7/dist-packages (from mosaicml) (1.1.0)\n",
            "Requirement already satisfied: torch<2,>=1.9 in /usr/local/lib/python3.7/dist-packages (from mosaicml) (1.12.0+cu113)\n",
            "Requirement already satisfied: py-cpuinfo>=8.0.0 in /usr/local/lib/python3.7/dist-packages (from mosaicml) (8.0.0)\n",
            "Requirement already satisfied: torchmetrics<0.8,>=0.7.0 in /usr/local/lib/python3.7/dist-packages (from mosaicml) (0.7.3)\n",
            "Requirement already satisfied: psutil<6,>=5.8.0 in /usr/local/lib/python3.7/dist-packages (from mosaicml) (5.9.1)\n",
            "Requirement already satisfied: pyyaml<7,>=6.0 in /usr/local/lib/python3.7/dist-packages (from mosaicml) (6.0)\n",
            "Requirement already satisfied: urllib3<1.27,>=1.21.1 in /usr/local/lib/python3.7/dist-packages (from requests<3,>=2.26.0->mosaicml) (1.24.3)\n",
            "Requirement already satisfied: idna<4,>=2.5 in /usr/local/lib/python3.7/dist-packages (from requests<3,>=2.26.0->mosaicml) (2.10)\n",
            "Requirement already satisfied: certifi>=2017.4.17 in /usr/local/lib/python3.7/dist-packages (from requests<3,>=2.26.0->mosaicml) (2022.6.15)\n",
            "Requirement already satisfied: charset-normalizer<3,>=2 in /usr/local/lib/python3.7/dist-packages (from requests<3,>=2.26.0->mosaicml) (2.1.0)\n",
            "Requirement already satisfied: typing-extensions in /usr/local/lib/python3.7/dist-packages (from torch<2,>=1.9->mosaicml) (4.1.1)\n",
            "Requirement already satisfied: pytorch-ranger>=0.1.1 in /usr/local/lib/python3.7/dist-packages (from torch-optimizer<0.2,>=0.1.0->mosaicml) (0.1.1)\n",
            "Requirement already satisfied: pyDeprecate==0.3.* in /usr/local/lib/python3.7/dist-packages (from torchmetrics<0.8,>=0.7.0->mosaicml) (0.3.2)\n",
            "Requirement already satisfied: packaging in /usr/local/lib/python3.7/dist-packages (from torchmetrics<0.8,>=0.7.0->mosaicml) (21.3)\n",
            "Requirement already satisfied: pillow!=8.3.*,>=5.3.0 in /usr/local/lib/python3.7/dist-packages (from torchvision>=0.10.0->mosaicml) (7.1.2)\n",
            "Requirement already satisfied: ruamel.yaml>=0.17.10 in /usr/local/lib/python3.7/dist-packages (from yahp<0.2,>=0.1.1->mosaicml) (0.17.21)\n",
            "Requirement already satisfied: docstring-parser<=0.15,>=0.14.1 in /usr/local/lib/python3.7/dist-packages (from yahp<0.2,>=0.1.1->mosaicml) (0.14.1)\n",
            "Requirement already satisfied: ruamel.yaml.clib>=0.2.6 in /usr/local/lib/python3.7/dist-packages (from ruamel.yaml>=0.17.10->yahp<0.2,>=0.1.1->mosaicml) (0.2.6)\n",
            "Requirement already satisfied: pyparsing!=3.0.5,>=2.0.2 in /usr/local/lib/python3.7/dist-packages (from packaging->torchmetrics<0.8,>=0.7.0->mosaicml) (3.0.9)\n",
            "Requirement already satisfied: click<=8.0.4,>=7.0 in /usr/local/lib/python3.7/dist-packages (from ray[default]) (7.1.2)\n",
            "Requirement already satisfied: msgpack<2.0.0,>=1.0.0 in /usr/local/lib/python3.7/dist-packages (from ray[default]) (1.0.4)\n",
            "Requirement already satisfied: virtualenv in /usr/local/lib/python3.7/dist-packages (from ray[default]) (20.15.1)\n",
            "Requirement already satisfied: protobuf<4.0.0,>=3.15.3 in /usr/local/lib/python3.7/dist-packages (from ray[default]) (3.17.3)\n",
            "Requirement already satisfied: aiosignal in /usr/local/lib/python3.7/dist-packages (from ray[default]) (1.2.0)\n",
            "Requirement already satisfied: jsonschema in /usr/local/lib/python3.7/dist-packages (from ray[default]) (4.3.3)\n",
            "Requirement already satisfied: filelock in /usr/local/lib/python3.7/dist-packages (from ray[default]) (3.7.1)\n",
            "Requirement already satisfied: grpcio<=1.43.0,>=1.28.1 in /usr/local/lib/python3.7/dist-packages (from ray[default]) (1.43.0)\n",
            "Requirement already satisfied: frozenlist in /usr/local/lib/python3.7/dist-packages (from ray[default]) (1.3.0)\n",
            "Requirement already satisfied: attrs in /usr/local/lib/python3.7/dist-packages (from ray[default]) (21.4.0)\n",
            "Requirement already satisfied: smart-open in /usr/local/lib/python3.7/dist-packages (from ray[default]) (5.2.1)\n",
            "Requirement already satisfied: opencensus in /usr/local/lib/python3.7/dist-packages (from ray[default]) (0.10.0)\n",
            "Requirement already satisfied: aiohttp>=3.7 in /usr/local/lib/python3.7/dist-packages (from ray[default]) (3.8.1)\n",
            "Requirement already satisfied: gpustat>=1.0.0b1 in /usr/local/lib/python3.7/dist-packages (from ray[default]) (1.0.0rc1)\n",
            "Requirement already satisfied: prometheus-client<0.14.0,>=0.7.1 in /usr/local/lib/python3.7/dist-packages (from ray[default]) (0.13.1)\n",
            "Requirement already satisfied: py-spy>=0.2.0 in /usr/local/lib/python3.7/dist-packages (from ray[default]) (0.3.12)\n",
            "Requirement already satisfied: colorful in /usr/local/lib/python3.7/dist-packages (from ray[default]) (0.5.4)\n",
            "Requirement already satisfied: aiohttp-cors in /usr/local/lib/python3.7/dist-packages (from ray[default]) (0.7.0)\n",
            "Requirement already satisfied: asynctest==0.13.0 in /usr/local/lib/python3.7/dist-packages (from aiohttp>=3.7->ray[default]) (0.13.0)\n",
            "Requirement already satisfied: yarl<2.0,>=1.0 in /usr/local/lib/python3.7/dist-packages (from aiohttp>=3.7->ray[default]) (1.7.2)\n",
            "Requirement already satisfied: multidict<7.0,>=4.5 in /usr/local/lib/python3.7/dist-packages (from aiohttp>=3.7->ray[default]) (6.0.2)\n",
            "Requirement already satisfied: async-timeout<5.0,>=4.0.0a3 in /usr/local/lib/python3.7/dist-packages (from aiohttp>=3.7->ray[default]) (4.0.2)\n",
            "Requirement already satisfied: blessed>=1.17.1 in /usr/local/lib/python3.7/dist-packages (from gpustat>=1.0.0b1->ray[default]) (1.19.1)\n",
            "Requirement already satisfied: nvidia-ml-py<=11.495.46,>=11.450.129 in /usr/local/lib/python3.7/dist-packages (from gpustat>=1.0.0b1->ray[default]) (11.495.46)\n",
            "Requirement already satisfied: six>=1.7 in /usr/local/lib/python3.7/dist-packages (from gpustat>=1.0.0b1->ray[default]) (1.15.0)\n",
            "Requirement already satisfied: wcwidth>=0.1.4 in /usr/local/lib/python3.7/dist-packages (from blessed>=1.17.1->gpustat>=1.0.0b1->ray[default]) (0.2.5)\n",
            "Requirement already satisfied: pyrsistent!=0.17.0,!=0.17.1,!=0.17.2,>=0.14.0 in /usr/local/lib/python3.7/dist-packages (from jsonschema->ray[default]) (0.18.1)\n",
            "Requirement already satisfied: importlib-resources>=1.4.0 in /usr/local/lib/python3.7/dist-packages (from jsonschema->ray[default]) (5.8.0)\n",
            "Requirement already satisfied: importlib-metadata in /usr/local/lib/python3.7/dist-packages (from jsonschema->ray[default]) (4.12.0)\n",
            "Requirement already satisfied: zipp>=3.1.0 in /usr/local/lib/python3.7/dist-packages (from importlib-resources>=1.4.0->jsonschema->ray[default]) (3.8.1)\n",
            "Requirement already satisfied: opencensus-context>=0.1.2 in /usr/local/lib/python3.7/dist-packages (from opencensus->ray[default]) (0.1.2)\n",
            "Requirement already satisfied: google-api-core<3.0.0,>=1.0.0 in /usr/local/lib/python3.7/dist-packages (from opencensus->ray[default]) (1.31.6)\n",
            "Requirement already satisfied: googleapis-common-protos<2.0dev,>=1.6.0 in /usr/local/lib/python3.7/dist-packages (from google-api-core<3.0.0,>=1.0.0->opencensus->ray[default]) (1.56.4)\n",
            "Requirement already satisfied: google-auth<2.0dev,>=1.25.0 in /usr/local/lib/python3.7/dist-packages (from google-api-core<3.0.0,>=1.0.0->opencensus->ray[default]) (1.35.0)\n",
            "Requirement already satisfied: pytz in /usr/local/lib/python3.7/dist-packages (from google-api-core<3.0.0,>=1.0.0->opencensus->ray[default]) (2022.1)\n",
            "Requirement already satisfied: rsa<5,>=3.1.4 in /usr/local/lib/python3.7/dist-packages (from google-auth<2.0dev,>=1.25.0->google-api-core<3.0.0,>=1.0.0->opencensus->ray[default]) (4.8)\n",
            "Requirement already satisfied: cachetools<5.0,>=2.0.0 in /usr/local/lib/python3.7/dist-packages (from google-auth<2.0dev,>=1.25.0->google-api-core<3.0.0,>=1.0.0->opencensus->ray[default]) (4.2.4)\n",
            "Requirement already satisfied: pyasn1-modules>=0.2.1 in /usr/local/lib/python3.7/dist-packages (from google-auth<2.0dev,>=1.25.0->google-api-core<3.0.0,>=1.0.0->opencensus->ray[default]) (0.2.8)\n",
            "Requirement already satisfied: pyasn1<0.5.0,>=0.4.6 in /usr/local/lib/python3.7/dist-packages (from pyasn1-modules>=0.2.1->google-auth<2.0dev,>=1.25.0->google-api-core<3.0.0,>=1.0.0->opencensus->ray[default]) (0.4.8)\n",
            "Requirement already satisfied: tabulate in /usr/local/lib/python3.7/dist-packages (from ray[default]) (0.8.10)\n",
            "Requirement already satisfied: pandas in /usr/local/lib/python3.7/dist-packages (from ray[default]) (1.3.5)\n",
            "Requirement already satisfied: tensorboardX>=1.9 in /usr/local/lib/python3.7/dist-packages (from ray[default]) (2.5.1)\n",
            "Requirement already satisfied: python-dateutil>=2.7.3 in /usr/local/lib/python3.7/dist-packages (from pandas->ray[default]) (2.8.2)\n",
            "Requirement already satisfied: platformdirs<3,>=2 in /usr/local/lib/python3.7/dist-packages (from virtualenv->ray[default]) (2.5.2)\n",
            "Requirement already satisfied: distlib<1,>=0.3.1 in /usr/local/lib/python3.7/dist-packages (from virtualenv->ray[default]) (0.3.5)\n"
          ]
        }
      ]
    },
    {
      "cell_type": "code",
      "source": [
        "\"\"\"\n",
        "You can select any options from the all options list.\n",
        "\n",
        "Put the options you want in the options list and throughout the notebook, see \n",
        "how the composer functions you selected are applied.\n",
        "\n",
        "Some options will decrease overall training time, a few options will decrease\n",
        "per epoch training time, and a few options may not improve or harm training time\n",
        "depending on your model and dataset.\n",
        "\"\"\"\n",
        "\n",
        "all_options = [\"augmix\", \"blurpool\", \"channels_last\", \"colout\", \"cutout\", \"ema\",\n",
        "               \"factorize\", \"layer_freeze\", \"mixup\", \"rand_aug\", \"squeeze_excite\"]\n",
        "options = [\"factorize\"]"
      ],
      "metadata": {
        "id": "Uv9hg-pW3b9s"
      },
      "execution_count": 3,
      "outputs": []
    },
    {
      "cell_type": "code",
      "source": [
        "import time\n",
        "import numpy as np\n",
        "import os\n",
        "import copy\n",
        "import torch\n",
        "import torch.nn as nn\n",
        "import torch.optim as optim\n",
        "from torchvision.models import resnet18\n",
        "from cords.utils.data.datasets.SL import gen_dataset\n",
        "from torch.utils.data import Subset\n",
        "from cords.utils.config_utils import load_config_data\n",
        "import os.path as osp\n",
        "from cords.utils.data.data_utils import WeightedSubset\n",
        "from composer import functional as cf\n",
        "from composer.algorithms.augmix import AugmentAndMixTransform\n",
        "from composer.algorithms.colout import ColOutTransform\n",
        "from composer.algorithms.randaugment import RandAugmentTransform\n",
        "from ray import tune\n",
        "import torchvision\n",
        "from torchvision import transforms\n",
        "from torch.utils.data import random_split"
      ],
      "metadata": {
        "id": "IFtimJsDYBSm"
      },
      "execution_count": 4,
      "outputs": []
    },
    {
      "cell_type": "code",
      "source": [
        "#trainset, validset, testset, num_cls = gen_dataset('data/', 'cifar10', None, isnumpy=False)\n",
        "def get_data():\n",
        "    torch.cuda.manual_seed(42)\n",
        "    torch.manual_seed(42)\n",
        "\n",
        "    train_transforms = [\n",
        "                        transforms.RandomCrop(32, padding=4),\n",
        "                        transforms.RandomHorizontalFlip(),\n",
        "                        transforms.ToTensor(),\n",
        "                        transforms.Normalize((0.4914, 0.4822, 0.4465), (0.2023, 0.1994, 0.2010)),\n",
        "                       ]\n",
        "    if \"augmix\" in options:\n",
        "        train_transforms.append(AugmentAndMixTransform(severity=3,\n",
        "                                                       width=3,\n",
        "                                                       depth=-1,\n",
        "                                                       alpha=1.0,\n",
        "                                                       augmentation_set=\"all\"))\n",
        "    if \"colout\" in options:\n",
        "        train_transforms.append(ColOutTransform(p_row=0.15, p_col=0.15))\n",
        "    if \"rand_aug\" in options:\n",
        "        train_transforms.append(RandAugmentTransform(severity=4,\n",
        "                                                     depth=2,\n",
        "                                                     augmentation_set=\"all\"))\n",
        "\n",
        "    cifar_transform = transforms.Compose(train_transforms)\n",
        "\n",
        "    cifar_tst_transform = transforms.Compose([\n",
        "                            transforms.ToTensor(),\n",
        "                            transforms.Normalize((0.4914, 0.4822, 0.4465), (0.2023, 0.1994, 0.2010)),\n",
        "                        ])\n",
        "\n",
        "    num_cls = 10\n",
        "\n",
        "    fullset = torchvision.datasets.CIFAR10(root='data/', train=True, download=True, transform=cifar_transform)\n",
        "    testset = torchvision.datasets.CIFAR10(root='data/', train=False, download=True, transform=cifar_tst_transform)\n",
        "\n",
        "    validation_set_fraction = 0.1\n",
        "    num_fulltrn = len(fullset)\n",
        "    num_val = int(num_fulltrn * validation_set_fraction)\n",
        "    num_trn = num_fulltrn - num_val\n",
        "    trainset, valset = random_split(fullset, [num_trn, num_val])\n",
        "\n",
        "    return trainset, valset, testset, num_cls\n",
        "\n",
        "trainset, validset, testset, num_cls = get_data()"
      ],
      "metadata": {
        "colab": {
          "base_uri": "https://localhost:8080/"
        },
        "id": "fCOZOz0CYDmA",
        "outputId": "5f10be9e-258b-4c08-b994-0ede3d3f47f9"
      },
      "execution_count": 5,
      "outputs": [
        {
          "output_type": "stream",
          "name": "stdout",
          "text": [
            "Files already downloaded and verified\n",
            "Files already downloaded and verified\n"
          ]
        }
      ]
    },
    {
      "cell_type": "code",
      "source": [
        "trn_batch_size = 20\n",
        "val_batch_size = 20\n",
        "tst_batch_size = 1000\n",
        "\n",
        "# Creating the Data Loaders\n",
        "trainloader = torch.utils.data.DataLoader(trainset, batch_size=trn_batch_size,\n",
        "                                          shuffle=False, pin_memory=True)\n",
        "\n",
        "valloader = torch.utils.data.DataLoader(validset, batch_size=val_batch_size,\n",
        "                                        shuffle=False, pin_memory=True)\n",
        "\n",
        "testloader = torch.utils.data.DataLoader(testset, batch_size=tst_batch_size,\n",
        "                                          shuffle=False, pin_memory=True)"
      ],
      "metadata": {
        "id": "JJji-yh0YIEY"
      },
      "execution_count": 6,
      "outputs": []
    },
    {
      "cell_type": "code",
      "source": [
        "from cords.utils.models import ResNet18\n",
        "numclasses = 10\n",
        "device = 'cuda' #Device Argument\n",
        "model = ResNet18(10)\n",
        "\n",
        "if \"blurpool\" in options:\n",
        "    model = cf.apply_blurpool(model)\n",
        "if \"channels_last\" in options:\n",
        "    cf.apply_channels_last(model)\n",
        "if \"ema\" in options:\n",
        "    ema_model = copy.deepcopy(model)\n",
        "    ema_model.to(device)\n",
        "if \"factorize\" in options:\n",
        "    cf.apply_factorization(model)\n",
        "if \"squeeze_excite\" in options:\n",
        "    model = cf.apply_squeeze_excite(model)\n",
        "\n",
        "\n",
        "model = model.to(device)"
      ],
      "metadata": {
        "id": "6Qj5KIyEYJ8M"
      },
      "execution_count": 7,
      "outputs": []
    },
    {
      "cell_type": "code",
      "source": [
        "criterion = nn.CrossEntropyLoss()\n",
        "criterion_nored = nn.CrossEntropyLoss(reduction='none')"
      ],
      "metadata": {
        "id": "8Tvpow1wYLWZ"
      },
      "execution_count": 8,
      "outputs": []
    },
    {
      "cell_type": "code",
      "source": [
        "def save_ckpt(state, ckpt_path):\n",
        "    torch.save(state, ckpt_path)\n",
        "\n",
        "\n",
        "def load_ckpt(ckpt_path, model, optimizer):\n",
        "    checkpoint = torch.load(ckpt_path)\n",
        "    start_epoch = checkpoint['epoch']\n",
        "    model.load_state_dict(checkpoint['state_dict'])\n",
        "    optimizer.load_state_dict(checkpoint['optimizer'])\n",
        "    loss = checkpoint['loss']\n",
        "    metrics = checkpoint['metrics']\n",
        "    return start_epoch, model, optimizer, loss, metrics"
      ],
      "metadata": {
        "id": "uJhZ8d3vYNBh"
      },
      "execution_count": 9,
      "outputs": []
    },
    {
      "cell_type": "code",
      "source": [
        "def generate_cumulative_timing(mod_timing):\n",
        "    tmp = 0\n",
        "    mod_cum_timing = np.zeros(len(mod_timing))\n",
        "    for i in range(len(mod_timing)):\n",
        "        tmp += mod_timing[i]\n",
        "        mod_cum_timing[i] = tmp\n",
        "    return mod_cum_timing / 3600"
      ],
      "metadata": {
        "id": "0hx_sinTYOdX"
      },
      "execution_count": 10,
      "outputs": []
    },
    {
      "cell_type": "code",
      "source": [
        "optimizer = optim.SGD(model.parameters(), lr=1e-2,\n",
        "                                  momentum=0.9,\n",
        "                                  weight_decay=5e-4,\n",
        "                                  nesterov=False)\n",
        "\n",
        "#T_max is the maximum number of scheduler steps. Here we are using the number of epochs as the maximum number of scheduler steps.\n",
        "\n",
        "scheduler = torch.optim.lr_scheduler.CosineAnnealingLR(optimizer,\n",
        "                                                       T_max=50)"
      ],
      "metadata": {
        "id": "kLHSf3WEYP3_"
      },
      "execution_count": 11,
      "outputs": []
    },
    {
      "cell_type": "code",
      "source": [
        "def __get_logger(results_dir):\n",
        "  os.makedirs(results_dir, exist_ok=True)\n",
        "  # setup logger\n",
        "  plain_formatter = logging.Formatter(\"[%(asctime)s] %(name)s %(levelname)s: %(message)s\",\n",
        "                                      datefmt=\"%m/%d %H:%M:%S\")\n",
        "  logger = logging.getLogger(__name__)\n",
        "  logger.setLevel(logging.INFO)\n",
        "  s_handler = logging.StreamHandler(stream=sys.stdout)\n",
        "  s_handler.setFormatter(plain_formatter)\n",
        "  s_handler.setLevel(logging.INFO)\n",
        "  logger.addHandler(s_handler)\n",
        "  f_handler = logging.FileHandler(os.path.join(results_dir, \"results.log\"))\n",
        "  f_handler.setFormatter(plain_formatter)\n",
        "  f_handler.setLevel(logging.DEBUG)\n",
        "  logger.addHandler(f_handler)\n",
        "  logger.propagate = False\n",
        "  return logger"
      ],
      "metadata": {
        "id": "wAopp5oFYRJJ"
      },
      "execution_count": 12,
      "outputs": []
    },
    {
      "cell_type": "code",
      "source": [
        "import logging\n",
        "import os\n",
        "import os.path as osp\n",
        "import sys\n",
        "\n",
        "#Results logging directory\n",
        "results_dir = osp.abspath(osp.expanduser('results'))\n",
        "logger = __get_logger(results_dir)"
      ],
      "metadata": {
        "id": "6AQkQW5XYSqA"
      },
      "execution_count": 13,
      "outputs": []
    },
    {
      "cell_type": "code",
      "source": [
        "logger.info(\"hello\")"
      ],
      "metadata": {
        "colab": {
          "base_uri": "https://localhost:8080/"
        },
        "id": "IAh0aXRKYWzi",
        "outputId": "dda0514b-a43f-4e56-eca1-2808b25f173c"
      },
      "execution_count": 14,
      "outputs": [
        {
          "output_type": "stream",
          "name": "stdout",
          "text": [
            "[07/23 13:53:17] __main__ INFO: hello\n"
          ]
        }
      ]
    },
    {
      "cell_type": "code",
      "source": [
        "from cords.utils.data.dataloader.SL.adaptive import GLISTERDataLoader, OLRandomDataLoader, \\\n",
        "    CRAIGDataLoader, GradMatchDataLoader, RandomDataLoader\n",
        "from dotmap import DotMap\n",
        "\n",
        "selection_strategy = 'GLISTER'\n",
        "dss_args = dict(model=model,\n",
        "                loss=criterion_nored,\n",
        "                eta=0.01,\n",
        "                num_classes=10,\n",
        "                num_epochs=50,\n",
        "                device='cuda',\n",
        "                fraction=0.1,\n",
        "                select_every=10,\n",
        "                kappa=0,\n",
        "                linear_layer=False,\n",
        "                selection_type='SL',\n",
        "                greedy='Stochastic')\n",
        "dss_args = DotMap(dss_args)\n",
        "\n",
        "dataloader = GLISTERDataLoader(trainloader, valloader, dss_args, logger, \n",
        "                                  batch_size=20, \n",
        "                                  shuffle=True,\n",
        "                                  pin_memory=False)"
      ],
      "metadata": {
        "colab": {
          "base_uri": "https://localhost:8080/"
        },
        "id": "P72TwdhcYYL8",
        "outputId": "194e0f85-5323-4db5-e52d-6819991d8d21"
      },
      "execution_count": 15,
      "outputs": [
        {
          "output_type": "stream",
          "name": "stderr",
          "text": [
            "/usr/local/lib/python3.7/dist-packages/numba/np/ufunc/parallel.py:363: NumbaWarning: \u001b[1mThe TBB threading layer requires TBB version 2019.5 or later i.e., TBB_INTERFACE_VERSION >= 11005. Found TBB_INTERFACE_VERSION = 9107. The TBB threading layer is disabled.\u001b[0m\n",
            "  warnings.warn(problem)\n"
          ]
        }
      ]
    },
    {
      "cell_type": "code",
      "source": [
        "#Training Arguments\n",
        "num_epochs = 50\n",
        "\n",
        "#Arguments for results logging\n",
        "print_every = 1\n",
        "print_args = [\"val_loss\", \"val_acc\", \"tst_loss\", \"tst_acc\", \"time\"]\n",
        "\n",
        "#Argumets for checkpointing\n",
        "save_every = 20\n",
        "is_save = True\n",
        "\n",
        "#Evaluation Metrics\n",
        "trn_losses = list()\n",
        "val_losses = list()\n",
        "tst_losses = list()\n",
        "subtrn_losses = list()\n",
        "timing = list()\n",
        "trn_acc = list()\n",
        "val_acc = list()  \n",
        "tst_acc = list()  \n",
        "subtrn_acc = list()"
      ],
      "metadata": {
        "id": "hN182L3MYa8a"
      },
      "execution_count": 16,
      "outputs": []
    },
    {
      "cell_type": "code",
      "source": [
        "\"\"\"\n",
        "################################################# Training Loop #################################################\n",
        "\"\"\"\n",
        "for epoch in range(num_epochs):\n",
        "    subtrn_loss = 0\n",
        "    subtrn_correct = 0\n",
        "    subtrn_total = 0\n",
        "    model.train()\n",
        "    start_time = time.time()\n",
        "    for _, (inputs, targets, weights) in enumerate(dataloader):\n",
        "        inputs = inputs.to(device)\n",
        "        targets = targets.to(device, non_blocking=True)\n",
        "        weights = weights.to(device)  \n",
        "        optimizer.zero_grad()\n",
        "\n",
        "        if \"mixup\" in options:\n",
        "            inputs, y_perm, mixing = cf.mixup_batch(inputs, targets, alpha=0.2)\n",
        "        if \"cutout\" in options:\n",
        "             inputs = cf.cutout_batch(inputs, num_holes=1, length=0.5)\n",
        "             \n",
        "        outputs = model(inputs)\n",
        "        losses = criterion_nored(outputs, targets)\n",
        "        loss = torch.dot(losses, weights/(weights.sum()))\n",
        "        loss.backward()\n",
        "        subtrn_loss += loss.item()\n",
        "        optimizer.step()\n",
        "        _, predicted = outputs.max(1)\n",
        "        subtrn_total += targets.size(0)\n",
        "        subtrn_correct += predicted.eq(targets).sum().item()\n",
        "\n",
        "        if \"ema\" in options:\n",
        "            cf.compute_ema(model, ema_model, smoothing=0.99)\n",
        "        if \"layer_freeze\" in options:\n",
        "            freeze_depth, feeze_level = cf.freeze_layers(\n",
        "                                        model=model,\n",
        "                                        optimizers=optimizer,\n",
        "                                        current_duration=epoch/num_epochs,\n",
        "                                        freeze_start=0.0,\n",
        "                                        freeze_level=1.0\n",
        "                                    )\n",
        "\n",
        "    epoch_time = time.time() - start_time\n",
        "    scheduler.step()\n",
        "    timing.append(epoch_time)\n",
        "\n",
        "\n",
        "    \"\"\"\n",
        "    ################################################# Evaluation Loop #################################################\n",
        "    \"\"\"\n",
        "\n",
        "    if (epoch + 1) % print_every == 0:\n",
        "        trn_loss = 0\n",
        "        trn_correct = 0\n",
        "        trn_total = 0\n",
        "        val_loss = 0\n",
        "        val_correct = 0\n",
        "        val_total = 0\n",
        "        tst_correct = 0\n",
        "        tst_total = 0\n",
        "        tst_loss = 0\n",
        "        model.eval()\n",
        "\n",
        "        if (\"trn_loss\" in print_args) or (\"trn_acc\" in print_args):\n",
        "            with torch.no_grad():\n",
        "                for _, (inputs, targets) in enumerate(trainloader):\n",
        "                    inputs, targets = inputs.to(device), \\\n",
        "                                      targets.to(device, non_blocking=True)\n",
        "                    outputs = model(inputs)\n",
        "                    loss = criterion(outputs, targets)\n",
        "                    trn_loss += loss.item()\n",
        "                    if \"trn_acc\" in print_args:\n",
        "                        _, predicted = outputs.max(1)\n",
        "                        trn_total += targets.size(0)\n",
        "                        trn_correct += predicted.eq(targets).sum().item()\n",
        "                trn_losses.append(trn_loss)\n",
        "\n",
        "            if \"trn_acc\" in print_args:\n",
        "                trn_acc.append(trn_correct / trn_total)\n",
        "\n",
        "        if (\"val_loss\" in print_args) or (\"val_acc\" in print_args):\n",
        "            with torch.no_grad():\n",
        "                for _, (inputs, targets) in enumerate(valloader):\n",
        "                    inputs, targets = inputs.to(device), \\\n",
        "                                      targets.to(device, non_blocking=True)\n",
        "                    outputs = model(inputs)\n",
        "                    loss = criterion(outputs, targets)\n",
        "                    val_loss += loss.item()\n",
        "                    if \"val_acc\" in print_args:\n",
        "                        _, predicted = outputs.max(1)\n",
        "                        val_total += targets.size(0)\n",
        "                        val_correct += predicted.eq(targets).sum().item()\n",
        "                val_losses.append(val_loss)\n",
        "\n",
        "            if \"val_acc\" in print_args:\n",
        "                val_acc.append(val_correct / val_total)\n",
        "\n",
        "        if (\"tst_loss\" in print_args) or (\"tst_acc\" in print_args):\n",
        "            with torch.no_grad():\n",
        "                for _, (inputs, targets) in enumerate(testloader):\n",
        "                    inputs, targets = inputs.to(device), \\\n",
        "                                      targets.to(device, non_blocking=True)\n",
        "                    outputs = model(inputs)\n",
        "                    loss = criterion(outputs, targets)\n",
        "                    tst_loss += loss.item()\n",
        "                    if \"tst_acc\" in print_args:\n",
        "                        _, predicted = outputs.max(1)\n",
        "                        tst_total += targets.size(0)\n",
        "                        tst_correct += predicted.eq(targets).sum().item()\n",
        "                tst_losses.append(tst_loss)\n",
        "\n",
        "            if \"tst_acc\" in print_args:\n",
        "                tst_acc.append(tst_correct / tst_total)\n",
        "\n",
        "        if \"subtrn_acc\" in print_args:\n",
        "            subtrn_acc.append(subtrn_correct / subtrn_total)\n",
        "\n",
        "        if \"subtrn_losses\" in print_args:\n",
        "            subtrn_losses.append(subtrn_loss)\n",
        "\n",
        "        print_str = \"Epoch: \" + str(epoch + 1)\n",
        "\n",
        "        \"\"\"\n",
        "        ################################################# Results Printing #################################################\n",
        "        \"\"\"\n",
        "\n",
        "        for arg in print_args:\n",
        "\n",
        "            if arg == \"val_loss\":\n",
        "                print_str += \" , \" + \"Validation Loss: \" + str(val_losses[-1])\n",
        "\n",
        "            if arg == \"val_acc\":\n",
        "                print_str += \" , \" + \"Validation Accuracy: \" + str(val_acc[-1])\n",
        "\n",
        "            if arg == \"tst_loss\":\n",
        "                print_str += \" , \" + \"Test Loss: \" + str(tst_losses[-1])\n",
        "\n",
        "            if arg == \"tst_acc\":\n",
        "                print_str += \" , \" + \"Test Accuracy: \" + str(tst_acc[-1])\n",
        "\n",
        "            if arg == \"trn_loss\":\n",
        "                print_str += \" , \" + \"Training Loss: \" + str(trn_losses[-1])\n",
        "\n",
        "            if arg == \"trn_acc\":\n",
        "                print_str += \" , \" + \"Training Accuracy: \" + str(trn_acc[-1])\n",
        "\n",
        "            if arg == \"subtrn_loss\":\n",
        "                print_str += \" , \" + \"Subset Loss: \" + str(subtrn_losses[-1])\n",
        "\n",
        "            if arg == \"subtrn_acc\":\n",
        "                print_str += \" , \" + \"Subset Accuracy: \" + str(subtrn_acc[-1])\n",
        "\n",
        "            if arg == \"time\":\n",
        "                print_str += \" , \" + \"Timing: \" + str(timing[-1])\n",
        "\n",
        "        logger.info(print_str)\n",
        "\n",
        "    \"\"\"\n",
        "    ################################################# Checkpoint Saving #################################################\n",
        "    \"\"\"\n",
        "\n",
        "    if ((epoch + 1) % save_every == 0) and is_save:\n",
        "\n",
        "        metric_dict = {}\n",
        "\n",
        "        for arg in print_args:\n",
        "            if arg == \"val_loss\":\n",
        "                metric_dict['val_loss'] = val_losses\n",
        "            if arg == \"val_acc\":\n",
        "                metric_dict['val_acc'] = val_acc\n",
        "            if arg == \"tst_loss\":\n",
        "                metric_dict['tst_loss'] = tst_losses\n",
        "            if arg == \"tst_acc\":\n",
        "                metric_dict['tst_acc'] = tst_acc\n",
        "            if arg == \"trn_loss\":\n",
        "                metric_dict['trn_loss'] = trn_losses\n",
        "            if arg == \"trn_acc\":\n",
        "                metric_dict['trn_acc'] = trn_acc\n",
        "            if arg == \"subtrn_loss\":\n",
        "                metric_dict['subtrn_loss'] = subtrn_losses\n",
        "            if arg == \"subtrn_acc\":\n",
        "                metric_dict['subtrn_acc'] = subtrn_acc\n",
        "            if arg == \"time\":\n",
        "                metric_dict['time'] = timing\n",
        "\n",
        "        ckpt_state = {\n",
        "            'epoch': epoch + 1,\n",
        "            'state_dict': model.state_dict(),\n",
        "            'optimizer': optimizer.state_dict(),\n",
        "            'loss': criterion_nored,\n",
        "            'metrics': metric_dict\n",
        "        }\n",
        "\n",
        "        # save checkpoint\n",
        "        save_ckpt(ckpt_state, 'model.pt')\n",
        "        logger.info(\"Model checkpoint saved at epoch: {0:d}\".format(epoch + 1))\n",
        "\n",
        "\n",
        "\"\"\"\n",
        "################################################# Results Summary #################################################\n",
        "\"\"\"\n",
        "\n",
        "logger.info(\"{0:s} Selection Run---------------------------------\".format(selection_strategy))\n",
        "logger.info(\"Final SubsetTrn: {0:f}\".format(subtrn_loss))\n",
        "if \"val_loss\" in print_args:\n",
        "    if \"val_acc\" in print_args:\n",
        "        logger.info(\"Validation Loss: %.2f , Validation Accuracy: %.2f\", val_loss, val_acc[-1])\n",
        "    else:\n",
        "        logger.info(\"Validation Loss: %.2f\", val_loss)\n",
        "\n",
        "if \"tst_loss\" in print_args:\n",
        "    if \"tst_acc\" in print_args:\n",
        "        logger.info(\"Test Loss: %.2f, Test Accuracy: %.2f\", tst_loss, tst_acc[-1])\n",
        "    else:\n",
        "        logger.info(\"Test Data Loss: %f\", tst_loss)\n",
        "logger.info('---------------------------------------------------------------------')\n",
        "logger.info(selection_strategy)\n",
        "logger.info('---------------------------------------------------------------------')\n",
        "\n",
        "\"\"\"\n",
        "################################################# Final Results Logging #################################################\n",
        "\"\"\"\n",
        "\n",
        "if \"val_acc\" in print_args:\n",
        "    val_str = \"Validation Accuracy, \"\n",
        "    for val in val_acc:\n",
        "        val_str = val_str + \" , \" + str(val)\n",
        "    logger.info(val_str)\n",
        "\n",
        "if \"tst_acc\" in print_args:\n",
        "    tst_str = \"Test Accuracy, \"\n",
        "    for tst in tst_acc:\n",
        "        tst_str = tst_str + \" , \" + str(tst)\n",
        "    logger.info(tst_str)\n",
        "\n",
        "if \"time\" in print_args:\n",
        "    time_str = \"Time, \"\n",
        "    for t in timing:\n",
        "        time_str = time_str + \" , \" + str(t)\n",
        "    logger.info(timing)\n",
        "\n",
        "timing_array = np.array(timing)\n",
        "cum_timing = list(generate_cumulative_timing(timing_array))\n",
        "logger.info(\"Total time taken by %s = %.4f \", selection_strategy, cum_timing[-1])"
      ],
      "metadata": {
        "colab": {
          "base_uri": "https://localhost:8080/"
        },
        "id": "243ksusPYc59",
        "outputId": "6d4f64b0-d8a1-424d-8076-153c2483ce0a"
      },
      "execution_count": 17,
      "outputs": [
        {
          "output_type": "stream",
          "name": "stdout",
          "text": [
            "[07/23 13:53:35] __main__ INFO: Epoch: 1 , Validation Loss: 648.5979809761047 , Validation Accuracy: 0.226 , Test Loss: 23.777379035949707 , Test Accuracy: 0.2418 , Timing: 6.515311241149902\n",
            "[07/23 13:53:46] __main__ INFO: Epoch: 2 , Validation Loss: 450.86648857593536 , Validation Accuracy: 0.3486 , Test Loss: 17.595316171646118 , Test Accuracy: 0.3516 , Timing: 5.373444318771362\n",
            "[07/23 13:53:58] __main__ INFO: Epoch: 3 , Validation Loss: 437.5296231508255 , Validation Accuracy: 0.368 , Test Loss: 17.5334951877594 , Test Accuracy: 0.3669 , Timing: 5.397563219070435\n",
            "[07/23 13:54:10] __main__ INFO: Epoch: 4 , Validation Loss: 417.2410324215889 , Validation Accuracy: 0.3904 , Test Loss: 15.80631399154663 , Test Accuracy: 0.4051 , Timing: 5.403378963470459\n",
            "[07/23 13:54:21] __main__ INFO: Epoch: 5 , Validation Loss: 379.9414790868759 , Validation Accuracy: 0.425 , Test Loss: 14.543221592903137 , Test Accuracy: 0.4604 , Timing: 5.3569371700286865\n",
            "[07/23 13:54:33] __main__ INFO: Epoch: 6 , Validation Loss: 367.1091984510422 , Validation Accuracy: 0.4432 , Test Loss: 14.026152491569519 , Test Accuracy: 0.478 , Timing: 5.35472846031189\n",
            "[07/23 13:54:45] __main__ INFO: Epoch: 7 , Validation Loss: 355.97264534235 , Validation Accuracy: 0.4808 , Test Loss: 13.952046513557434 , Test Accuracy: 0.4882 , Timing: 5.386261463165283\n",
            "[07/23 13:54:56] __main__ INFO: Epoch: 8 , Validation Loss: 361.49738812446594 , Validation Accuracy: 0.4818 , Test Loss: 14.733085870742798 , Test Accuracy: 0.4763 , Timing: 5.362898826599121\n",
            "[07/23 13:55:08] __main__ INFO: Epoch: 9 , Validation Loss: 318.29482102394104 , Validation Accuracy: 0.5404 , Test Loss: 12.7439546585083 , Test Accuracy: 0.5384 , Timing: 5.332169532775879\n",
            "[07/23 13:55:20] __main__ INFO: Epoch: 10 , Validation Loss: 311.84636557102203 , Validation Accuracy: 0.5422 , Test Loss: 12.686681270599365 , Test Accuracy: 0.5517 , Timing: 5.376314878463745\n",
            "[07/23 13:55:56] __main__ INFO: Epoch: 11, GLISTER dataloader subset selection finished, takes 36.5534. \n",
            "[07/23 13:56:08] __main__ INFO: Epoch: 11 , Validation Loss: 346.0976458787918 , Validation Accuracy: 0.48 , Test Loss: 13.47292971611023 , Test Accuracy: 0.4966 , Timing: 41.88607907295227\n",
            "[07/23 13:56:19] __main__ INFO: Epoch: 12 , Validation Loss: 327.8979203104973 , Validation Accuracy: 0.4886 , Test Loss: 12.732009053230286 , Test Accuracy: 0.5131 , Timing: 5.365647315979004\n",
            "[07/23 13:56:31] __main__ INFO: Epoch: 13 , Validation Loss: 335.81502598524094 , Validation Accuracy: 0.487 , Test Loss: 13.189320921897888 , Test Accuracy: 0.4861 , Timing: 5.3338751792907715\n",
            "[07/23 13:56:42] __main__ INFO: Epoch: 14 , Validation Loss: 306.34185260534286 , Validation Accuracy: 0.5274 , Test Loss: 12.051963448524475 , Test Accuracy: 0.5485 , Timing: 5.498695135116577\n",
            "[07/23 13:56:54] __main__ INFO: Epoch: 15 , Validation Loss: 326.7321485877037 , Validation Accuracy: 0.5142 , Test Loss: 12.940291047096252 , Test Accuracy: 0.5191 , Timing: 5.3401970863342285\n",
            "[07/23 13:57:05] __main__ INFO: Epoch: 16 , Validation Loss: 353.16480499505997 , Validation Accuracy: 0.5192 , Test Loss: 14.650426506996155 , Test Accuracy: 0.5052 , Timing: 5.347357988357544\n",
            "[07/23 13:57:17] __main__ INFO: Epoch: 17 , Validation Loss: 302.294027864933 , Validation Accuracy: 0.5482 , Test Loss: 11.982702016830444 , Test Accuracy: 0.5503 , Timing: 5.333483934402466\n",
            "[07/23 13:57:28] __main__ INFO: Epoch: 18 , Validation Loss: 298.55212169885635 , Validation Accuracy: 0.555 , Test Loss: 11.705005884170532 , Test Accuracy: 0.5659 , Timing: 5.49606990814209\n",
            "[07/23 13:57:40] __main__ INFO: Epoch: 19 , Validation Loss: 279.3084339797497 , Validation Accuracy: 0.5774 , Test Loss: 11.105319738388062 , Test Accuracy: 0.5861 , Timing: 5.272196054458618\n",
            "[07/23 13:57:51] __main__ INFO: Epoch: 20 , Validation Loss: 282.8101467490196 , Validation Accuracy: 0.5662 , Test Loss: 11.726136803627014 , Test Accuracy: 0.5641 , Timing: 5.297981262207031\n",
            "[07/23 13:57:51] __main__ INFO: Model checkpoint saved at epoch: 20\n",
            "[07/23 13:58:27] __main__ INFO: Epoch: 21, GLISTER dataloader subset selection finished, takes 35.6693. \n",
            "[07/23 13:58:38] __main__ INFO: Epoch: 21 , Validation Loss: 254.58366936445236 , Validation Accuracy: 0.6336 , Test Loss: 10.046629548072815 , Test Accuracy: 0.6359 , Timing: 41.02491760253906\n",
            "[07/23 13:58:50] __main__ INFO: Epoch: 22 , Validation Loss: 273.6562791764736 , Validation Accuracy: 0.5894 , Test Loss: 10.51431930065155 , Test Accuracy: 0.6053 , Timing: 5.293219327926636\n",
            "[07/23 13:59:02] __main__ INFO: Epoch: 23 , Validation Loss: 240.7639918923378 , Validation Accuracy: 0.6434 , Test Loss: 9.652280509471893 , Test Accuracy: 0.6438 , Timing: 5.610707521438599\n",
            "[07/23 13:59:13] __main__ INFO: Epoch: 24 , Validation Loss: 240.94885498285294 , Validation Accuracy: 0.6462 , Test Loss: 9.245343685150146 , Test Accuracy: 0.6657 , Timing: 5.319686412811279\n",
            "[07/23 13:59:24] __main__ INFO: Epoch: 25 , Validation Loss: 275.25879406929016 , Validation Accuracy: 0.611 , Test Loss: 10.81966918706894 , Test Accuracy: 0.6281 , Timing: 5.333928108215332\n",
            "[07/23 13:59:36] __main__ INFO: Epoch: 26 , Validation Loss: 249.2445197403431 , Validation Accuracy: 0.6342 , Test Loss: 10.079452812671661 , Test Accuracy: 0.6409 , Timing: 5.348989248275757\n",
            "[07/23 13:59:47] __main__ INFO: Epoch: 27 , Validation Loss: 240.20770969986916 , Validation Accuracy: 0.6494 , Test Loss: 9.780016601085663 , Test Accuracy: 0.6545 , Timing: 5.31585693359375\n",
            "[07/23 13:59:59] __main__ INFO: Epoch: 28 , Validation Loss: 240.55706945061684 , Validation Accuracy: 0.644 , Test Loss: 9.791894614696503 , Test Accuracy: 0.6512 , Timing: 5.317368268966675\n",
            "[07/23 14:00:10] __main__ INFO: Epoch: 29 , Validation Loss: 222.45117890834808 , Validation Accuracy: 0.6868 , Test Loss: 8.974343538284302 , Test Accuracy: 0.6911 , Timing: 5.3345115184783936\n",
            "[07/23 14:00:21] __main__ INFO: Epoch: 30 , Validation Loss: 254.96524043381214 , Validation Accuracy: 0.641 , Test Loss: 10.684099555015564 , Test Accuracy: 0.655 , Timing: 5.287970781326294\n",
            "[07/23 14:00:57] __main__ INFO: Epoch: 31, GLISTER dataloader subset selection finished, takes 35.9429. \n",
            "[07/23 14:01:09] __main__ INFO: Epoch: 31 , Validation Loss: 195.74034425616264 , Validation Accuracy: 0.7176 , Test Loss: 7.803606688976288 , Test Accuracy: 0.7206 , Timing: 41.26890754699707\n",
            "[07/23 14:01:20] __main__ INFO: Epoch: 32 , Validation Loss: 199.2137412428856 , Validation Accuracy: 0.7156 , Test Loss: 7.931274116039276 , Test Accuracy: 0.7101 , Timing: 5.292140483856201\n",
            "[07/23 14:01:32] __main__ INFO: Epoch: 33 , Validation Loss: 190.7987294793129 , Validation Accuracy: 0.7178 , Test Loss: 7.8425262570381165 , Test Accuracy: 0.7143 , Timing: 5.3090338706970215\n",
            "[07/23 14:01:43] __main__ INFO: Epoch: 34 , Validation Loss: 198.06111082434654 , Validation Accuracy: 0.7092 , Test Loss: 8.099298477172852 , Test Accuracy: 0.7064 , Timing: 5.321652173995972\n",
            "[07/23 14:01:55] __main__ INFO: Epoch: 35 , Validation Loss: 183.80331607162952 , Validation Accuracy: 0.7358 , Test Loss: 7.390685021877289 , Test Accuracy: 0.7365 , Timing: 5.33336329460144\n",
            "[07/23 14:02:07] __main__ INFO: Epoch: 36 , Validation Loss: 187.05542360246181 , Validation Accuracy: 0.7332 , Test Loss: 7.693369507789612 , Test Accuracy: 0.727 , Timing: 5.544010162353516\n",
            "[07/23 14:02:18] __main__ INFO: Epoch: 37 , Validation Loss: 182.8210764527321 , Validation Accuracy: 0.7366 , Test Loss: 7.877914845943451 , Test Accuracy: 0.7294 , Timing: 5.3328776359558105\n",
            "[07/23 14:02:29] __main__ INFO: Epoch: 38 , Validation Loss: 180.34777170419693 , Validation Accuracy: 0.7428 , Test Loss: 7.1803030371665955 , Test Accuracy: 0.7467 , Timing: 5.291203022003174\n",
            "[07/23 14:02:41] __main__ INFO: Epoch: 39 , Validation Loss: 183.26247808337212 , Validation Accuracy: 0.7386 , Test Loss: 7.810179710388184 , Test Accuracy: 0.7306 , Timing: 5.329387426376343\n",
            "[07/23 14:02:52] __main__ INFO: Epoch: 40 , Validation Loss: 197.2891190648079 , Validation Accuracy: 0.7194 , Test Loss: 8.309994161128998 , Test Accuracy: 0.7209 , Timing: 5.341269016265869\n",
            "[07/23 14:02:53] __main__ INFO: Model checkpoint saved at epoch: 40\n",
            "[07/23 14:03:28] __main__ INFO: Epoch: 41, GLISTER dataloader subset selection finished, takes 35.5413. \n",
            "[07/23 14:03:40] __main__ INFO: Epoch: 41 , Validation Loss: 156.21951048076153 , Validation Accuracy: 0.7742 , Test Loss: 6.146553635597229 , Test Accuracy: 0.7797 , Timing: 40.85543727874756\n",
            "[07/23 14:03:52] __main__ INFO: Epoch: 42 , Validation Loss: 156.5713958889246 , Validation Accuracy: 0.7772 , Test Loss: 6.204400539398193 , Test Accuracy: 0.7765 , Timing: 5.313735246658325\n",
            "[07/23 14:04:03] __main__ INFO: Epoch: 43 , Validation Loss: 154.20847874879837 , Validation Accuracy: 0.7784 , Test Loss: 6.190584897994995 , Test Accuracy: 0.7768 , Timing: 5.290660381317139\n",
            "[07/23 14:04:14] __main__ INFO: Epoch: 44 , Validation Loss: 151.52631901204586 , Validation Accuracy: 0.7822 , Test Loss: 6.059613883495331 , Test Accuracy: 0.7806 , Timing: 5.2891154289245605\n",
            "[07/23 14:04:26] __main__ INFO: Epoch: 45 , Validation Loss: 147.57427429407835 , Validation Accuracy: 0.7886 , Test Loss: 5.950313746929169 , Test Accuracy: 0.7865 , Timing: 5.311681747436523\n",
            "[07/23 14:04:37] __main__ INFO: Epoch: 46 , Validation Loss: 149.45110807567835 , Validation Accuracy: 0.7812 , Test Loss: 6.078045189380646 , Test Accuracy: 0.7836 , Timing: 5.291441440582275\n",
            "[07/23 14:04:49] __main__ INFO: Epoch: 47 , Validation Loss: 149.7376288473606 , Validation Accuracy: 0.7838 , Test Loss: 6.201349854469299 , Test Accuracy: 0.7815 , Timing: 5.320150136947632\n",
            "[07/23 14:05:00] __main__ INFO: Epoch: 48 , Validation Loss: 149.63885424286127 , Validation Accuracy: 0.7876 , Test Loss: 6.025639891624451 , Test Accuracy: 0.7866 , Timing: 5.3116114139556885\n",
            "[07/23 14:05:12] __main__ INFO: Epoch: 49 , Validation Loss: 151.90497989952564 , Validation Accuracy: 0.7792 , Test Loss: 6.05153489112854 , Test Accuracy: 0.7854 , Timing: 5.339888095855713\n",
            "[07/23 14:05:23] __main__ INFO: Epoch: 50 , Validation Loss: 146.97178199142218 , Validation Accuracy: 0.7884 , Test Loss: 5.974591374397278 , Test Accuracy: 0.7888 , Timing: 5.307419300079346\n",
            "[07/23 14:05:23] __main__ INFO: GLISTER Selection Run---------------------------------\n",
            "[07/23 14:05:23] __main__ INFO: Final SubsetTrn: 163.701355\n",
            "[07/23 14:05:23] __main__ INFO: Validation Loss: 146.97 , Validation Accuracy: 0.79\n",
            "[07/23 14:05:23] __main__ INFO: Test Loss: 5.97, Test Accuracy: 0.79\n",
            "[07/23 14:05:23] __main__ INFO: ---------------------------------------------------------------------\n",
            "[07/23 14:05:23] __main__ INFO: GLISTER\n",
            "[07/23 14:05:23] __main__ INFO: ---------------------------------------------------------------------\n",
            "[07/23 14:05:23] __main__ INFO: Validation Accuracy,  , 0.226 , 0.3486 , 0.368 , 0.3904 , 0.425 , 0.4432 , 0.4808 , 0.4818 , 0.5404 , 0.5422 , 0.48 , 0.4886 , 0.487 , 0.5274 , 0.5142 , 0.5192 , 0.5482 , 0.555 , 0.5774 , 0.5662 , 0.6336 , 0.5894 , 0.6434 , 0.6462 , 0.611 , 0.6342 , 0.6494 , 0.644 , 0.6868 , 0.641 , 0.7176 , 0.7156 , 0.7178 , 0.7092 , 0.7358 , 0.7332 , 0.7366 , 0.7428 , 0.7386 , 0.7194 , 0.7742 , 0.7772 , 0.7784 , 0.7822 , 0.7886 , 0.7812 , 0.7838 , 0.7876 , 0.7792 , 0.7884\n",
            "[07/23 14:05:23] __main__ INFO: Test Accuracy,  , 0.2418 , 0.3516 , 0.3669 , 0.4051 , 0.4604 , 0.478 , 0.4882 , 0.4763 , 0.5384 , 0.5517 , 0.4966 , 0.5131 , 0.4861 , 0.5485 , 0.5191 , 0.5052 , 0.5503 , 0.5659 , 0.5861 , 0.5641 , 0.6359 , 0.6053 , 0.6438 , 0.6657 , 0.6281 , 0.6409 , 0.6545 , 0.6512 , 0.6911 , 0.655 , 0.7206 , 0.7101 , 0.7143 , 0.7064 , 0.7365 , 0.727 , 0.7294 , 0.7467 , 0.7306 , 0.7209 , 0.7797 , 0.7765 , 0.7768 , 0.7806 , 0.7865 , 0.7836 , 0.7815 , 0.7866 , 0.7854 , 0.7888\n",
            "[07/23 14:05:23] __main__ INFO: [6.515311241149902, 5.373444318771362, 5.397563219070435, 5.403378963470459, 5.3569371700286865, 5.35472846031189, 5.386261463165283, 5.362898826599121, 5.332169532775879, 5.376314878463745, 41.88607907295227, 5.365647315979004, 5.3338751792907715, 5.498695135116577, 5.3401970863342285, 5.347357988357544, 5.333483934402466, 5.49606990814209, 5.272196054458618, 5.297981262207031, 41.02491760253906, 5.293219327926636, 5.610707521438599, 5.319686412811279, 5.333928108215332, 5.348989248275757, 5.31585693359375, 5.317368268966675, 5.3345115184783936, 5.287970781326294, 41.26890754699707, 5.292140483856201, 5.3090338706970215, 5.321652173995972, 5.33336329460144, 5.544010162353516, 5.3328776359558105, 5.291203022003174, 5.329387426376343, 5.341269016265869, 40.85543727874756, 5.313735246658325, 5.290660381317139, 5.2891154289245605, 5.311681747436523, 5.291441440582275, 5.320150136947632, 5.3116114139556885, 5.339888095855713, 5.307419300079346]\n",
            "[07/23 14:05:23] __main__ INFO: Total time taken by GLISTER = 0.1145 \n"
          ]
        }
      ]
    },
    {
      "cell_type": "code",
      "source": [
        "print(f\"Average Time / Epoch: {np.mean(timing)} \\nTotal Epochs: {num_epochs}\")"
      ],
      "metadata": {
        "id": "rEw6yODiL_CJ",
        "colab": {
          "base_uri": "https://localhost:8080/"
        },
        "outputId": "96596af0-d1b4-4cb9-dd36-649a2a54bd56"
      },
      "execution_count": 18,
      "outputs": [
        {
          "output_type": "stream",
          "name": "stdout",
          "text": [
            "Average Time / Epoch: 8.244254636764527 \n",
            "Total Epochs: 50\n"
          ]
        }
      ]
    },
    {
      "cell_type": "code",
      "source": [
        "gpu_info = !nvidia-smi\n",
        "gpu_info = '\\n'.join(gpu_info)\n",
        "if gpu_info.find('failed') >= 0:\n",
        "  print('Not connected to a GPU')\n",
        "else:\n",
        "  print(gpu_info)"
      ],
      "metadata": {
        "id": "OiR1Rbi5CgrY",
        "colab": {
          "base_uri": "https://localhost:8080/"
        },
        "outputId": "56f8b80e-fc91-41dd-de4d-b4e287048ef8"
      },
      "execution_count": 19,
      "outputs": [
        {
          "output_type": "stream",
          "name": "stdout",
          "text": [
            "Sat Jul 23 14:05:23 2022       \n",
            "+-----------------------------------------------------------------------------+\n",
            "| NVIDIA-SMI 460.32.03    Driver Version: 460.32.03    CUDA Version: 11.2     |\n",
            "|-------------------------------+----------------------+----------------------+\n",
            "| GPU  Name        Persistence-M| Bus-Id        Disp.A | Volatile Uncorr. ECC |\n",
            "| Fan  Temp  Perf  Pwr:Usage/Cap|         Memory-Usage | GPU-Util  Compute M. |\n",
            "|                               |                      |               MIG M. |\n",
            "|===============================+======================+======================|\n",
            "|   0  Tesla P100-PCIE...  Off  | 00000000:00:04.0 Off |                    0 |\n",
            "| N/A   51C    P0    40W / 250W |   5067MiB / 16280MiB |      0%      Default |\n",
            "|                               |                      |                  N/A |\n",
            "+-------------------------------+----------------------+----------------------+\n",
            "                                                                               \n",
            "+-----------------------------------------------------------------------------+\n",
            "| Processes:                                                                  |\n",
            "|  GPU   GI   CI        PID   Type   Process name                  GPU Memory |\n",
            "|        ID   ID                                                   Usage      |\n",
            "|=============================================================================|\n",
            "+-----------------------------------------------------------------------------+\n"
          ]
        }
      ]
    },
    {
      "cell_type": "code",
      "source": [
        ""
      ],
      "metadata": {
        "id": "9hnoIcO1L1iy"
      },
      "execution_count": 19,
      "outputs": []
    }
  ]
}